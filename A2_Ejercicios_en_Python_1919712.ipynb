{
  "nbformat": 4,
  "nbformat_minor": 0,
  "metadata": {
    "colab": {
      "provenance": []
    },
    "kernelspec": {
      "name": "python3",
      "display_name": "Python 3"
    },
    "language_info": {
      "name": "python"
    }
  },
  "cells": [
    {
      "cell_type": "code",
      "execution_count": null,
      "metadata": {
        "id": "W54lT8vWs-g9"
      },
      "outputs": [],
      "source": [
        "#A2.- Ejercicios en Python\n",
        "#Nombre:Sergio Maximino Melchor Villegas Matrícula:1919712 Hora de Clase: N1"
      ]
    },
    {
      "cell_type": "code",
      "source": [
        "#Objetivo.-\n",
        "#Practicar el lenguaje de programación Python, su sintaxis y lógica de programación en general.\n",
        "#Conocer la interfaz y funcionamiento de Google Colab.\n"
      ],
      "metadata": {
        "id": "dvBku1xbvoIb"
      },
      "execution_count": null,
      "outputs": []
    },
    {
      "cell_type": "code",
      "source": [
        "#Instrucciones.-\n",
        "#Realizar los siguientes ejercicios en Python en una notebook de Google Colab.\n",
        "#-Desarrolla un algoritmo que le pida al usuario por su nombre y que lo salude con su nombre, excepto si se llama “Ana”, “Juan”, y “Pedro”.\n",
        "#-Desarrolla un algoritmo que por medio de una función, le pida al usuario una lista de N elementos y como resultado invierta el sentido de la lista.\n",
        "#-Desarrolla un algoritmo que le pregunte al usuario cuántos números de la serie de Fibonnaci quiere generar y que al final los imprima."
      ],
      "metadata": {
        "id": "Z43fEKkfv9dB"
      },
      "execution_count": null,
      "outputs": []
    },
    {
      "cell_type": "code",
      "source": [
        "print(\"Hola, Cuál es su nombre? Escribalo porfavor :D \")\n",
        "nombre =input(\" \")\n",
        "print(\"Hola\", nombre)\n",
        "\n",
        "while nombre == str:\n",
        "  print(nombre)\n",
        "  if str == \"Juan\"\"Ana\"\"Pedro\":\n",
        "    print(\"Hola, Cuál es su nombre? Escribalo porfavor :D \")\n",
        "    break\n",
        "  str = nombre\n",
        "else:\n",
        "  print(\"Buen día\", nombre)\n"
      ],
      "metadata": {
        "id": "07jPwnFZwefk"
      },
      "execution_count": null,
      "outputs": []
    },
    {
      "cell_type": "code",
      "source": [
        "from ast import Invert\n",
        "def my_function(Lista):\n",
        "  x = input(\"\")\n",
        "  print(Lista[x])\n",
        "  for x in reversed(Lista):\n",
        "    print(Lista[x])"
      ],
      "metadata": {
        "id": "-4AAIEK0PZUS"
      },
      "execution_count": 51,
      "outputs": []
    },
    {
      "cell_type": "code",
      "source": [
        "print(\"Hola, Cuántos numeeros de fibonacci quiere generar? Escribalo porfavor :D \")\n",
        "x =input(int)\n",
        "y =input(int)\n",
        "for x in range(x, y+1):\n",
        "    print()"
      ],
      "metadata": {
        "colab": {
          "base_uri": "https://localhost:8080/",
          "height": 284
        },
        "id": "Qla1GS99SPmK",
        "outputId": "8ed89a96-251e-4216-ad0f-6a689d7fc022"
      },
      "execution_count": 54,
      "outputs": [
        {
          "name": "stdout",
          "output_type": "stream",
          "text": [
            "Hola, Cuántos numeeros de fibonacci quiere generar? Escribalo porfavor :D \n",
            "<class 'int'>2\n",
            "<class 'int'>3\n"
          ]
        },
        {
          "output_type": "error",
          "ename": "TypeError",
          "evalue": "ignored",
          "traceback": [
            "\u001b[0;31m---------------------------------------------------------------------------\u001b[0m",
            "\u001b[0;31mTypeError\u001b[0m                                 Traceback (most recent call last)",
            "\u001b[0;32m<ipython-input-54-a0fa5a96cb96>\u001b[0m in \u001b[0;36m<module>\u001b[0;34m\u001b[0m\n\u001b[1;32m      2\u001b[0m \u001b[0mx\u001b[0m \u001b[0;34m=\u001b[0m\u001b[0minput\u001b[0m\u001b[0;34m(\u001b[0m\u001b[0mint\u001b[0m\u001b[0;34m)\u001b[0m\u001b[0;34m\u001b[0m\u001b[0;34m\u001b[0m\u001b[0m\n\u001b[1;32m      3\u001b[0m \u001b[0my\u001b[0m \u001b[0;34m=\u001b[0m\u001b[0minput\u001b[0m\u001b[0;34m(\u001b[0m\u001b[0mint\u001b[0m\u001b[0;34m)\u001b[0m\u001b[0;34m\u001b[0m\u001b[0;34m\u001b[0m\u001b[0m\n\u001b[0;32m----> 4\u001b[0;31m \u001b[0;32mfor\u001b[0m \u001b[0mx\u001b[0m \u001b[0;32min\u001b[0m \u001b[0mrange\u001b[0m\u001b[0;34m(\u001b[0m\u001b[0mx\u001b[0m\u001b[0;34m,\u001b[0m \u001b[0my\u001b[0m\u001b[0;34m+\u001b[0m\u001b[0;36m1\u001b[0m\u001b[0;34m)\u001b[0m\u001b[0;34m:\u001b[0m\u001b[0;34m\u001b[0m\u001b[0;34m\u001b[0m\u001b[0m\n\u001b[0m\u001b[1;32m      5\u001b[0m     \u001b[0mprint\u001b[0m\u001b[0;34m(\u001b[0m\u001b[0;34m)\u001b[0m\u001b[0;34m\u001b[0m\u001b[0;34m\u001b[0m\u001b[0m\n",
            "\u001b[0;31mTypeError\u001b[0m: can only concatenate str (not \"int\") to str"
          ]
        }
      ]
    }
  ]
}